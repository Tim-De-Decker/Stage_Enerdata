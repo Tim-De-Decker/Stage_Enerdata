{
 "cells": [
  {
   "cell_type": "markdown",
   "metadata": {},
   "source": [
    "<br>\n",
    "<b><font size=22>Launcher ODYSSEE</font></b>\n",
    "\n",
    "# Usage\n",
    "\n",
    "Ce notebook permet de lancer l'intégralité du calcul de plusieurs pays en parallèle, les sorties vont dans le sous-répertoire _out_, un notebook de résultat par pays.\n",
    "\n",
    "* Il suffit de changer les variables puis d'éxecuter le notebook entier.\n",
    "* Pour lancer un seul pays utiliser plutôt le notebook Odyssee - Calcul Pays ou directement le notebook Odyssee.\n",
    "* La liste des pays à lancer est découpée en sous-listes de n éléments, n représentant le nombre de coeurs de processeur disponibles (4 max en test actuellement).\n"
   ]
  },
  {
   "cell_type": "code",
   "execution_count": 17,
   "metadata": {
    "ExecuteTime": {
     "end_time": "2022-08-26T11:06:24.209154Z",
     "start_time": "2022-08-26T11:06:24.205556Z"
    },
    "execution": {
     "iopub.execute_input": "2022-08-25T08:43:50.721355Z",
     "iopub.status.busy": "2022-08-25T08:43:50.720989Z",
     "iopub.status.idle": "2022-08-25T08:43:51.018750Z",
     "shell.execute_reply": "2022-08-25T08:43:51.017908Z",
     "shell.execute_reply.started": "2022-08-25T08:43:50.721326Z"
    },
    "tags": []
   },
   "outputs": [],
   "source": [
    "import papermill as pm\n",
    "import subprocess\n",
    "import numpy as np"
   ]
  },
  {
   "cell_type": "code",
   "execution_count": 18,
   "metadata": {
    "ExecuteTime": {
     "end_time": "2022-08-26T11:06:24.219873Z",
     "start_time": "2022-08-26T11:06:24.211969Z"
    },
    "execution": {
     "iopub.execute_input": "2022-08-25T08:50:28.573436Z",
     "iopub.status.busy": "2022-08-25T08:50:28.572626Z",
     "iopub.status.idle": "2022-08-25T08:50:28.582070Z",
     "shell.execute_reply": "2022-08-25T08:50:28.581193Z",
     "shell.execute_reply.started": "2022-08-25T08:50:28.573406Z"
    },
    "tags": []
   },
   "outputs": [
    {
     "data": {
      "text/plain": [
       "[['aut', 'bel', 'bgr', 'cro'],\n",
       " ['cyp', 'dnk', 'esp', 'eso'],\n",
       " ['fin', 'fra', 'gbr', 'grc'],\n",
       " ['hun', 'irl', 'ita', 'lat'],\n",
       " ['lth', 'lux', 'mlt', 'nld'],\n",
       " ['nor', 'pol', 'prt', 'rcz'],\n",
       " ['rfa', 'rfy', 'rom'],\n",
       " ['rsl', 'slo', 'sui'],\n",
       " ['swe', 'ueur', 'ueur28']]"
      ]
     },
     "execution_count": 18,
     "metadata": {},
     "output_type": "execute_result"
    }
   ],
   "source": [
    "# Liste des pays d'Odyssée\n",
    "\n",
    "allPays = ['aut', 'bel', 'bgr', 'cro', 'cyp', 'dnk', 'esp', 'eso', 'fin', 'fra', 'gbr', 'grc', 'hun', 'irl', 'ita', 'lat',\n",
    "           'lth', 'lux', 'mlt', 'nld', 'nor', 'pol', 'prt', 'rcz', 'rfa', 'rfy', 'rom', 'rsl', 'slo', 'sui', 'swe',\n",
    "           'ueur', 'ueur28']\n",
    "\n",
    "# Liste des pays à lancer : affecter allPays pour tout calculer ou une liste custom pour lancer sur un sous-ensemble\n",
    "# exemple : listPays = ['fra', 'rfa', 'bel', 'nld', 'lux', 'ita']\n",
    "\n",
    "listPays = allPays\n",
    "\n",
    "#Nombre de coeurs (NE DOIT PAS DEPASSER 4 !)\n",
    "core = 4\n",
    "\n",
    "# On découpe cette liste en listes de 4 éléments ou moins qu'on stocke dans la nouvelle liste LPays\n",
    "\n",
    "LPays = [list(lpays) for lpays in np.array_split(listPays, np.ceil(len(listPays)/core))]\n",
    "LPays"
   ]
  },
  {
   "cell_type": "code",
   "execution_count": 19,
   "metadata": {
    "ExecuteTime": {
     "end_time": "2022-08-26T11:24:37.904438Z",
     "start_time": "2022-08-26T11:06:24.222079Z"
    },
    "execution": {
     "iopub.execute_input": "2022-08-24T10:10:57.318347Z",
     "iopub.status.busy": "2022-08-24T10:10:57.317856Z",
     "iopub.status.idle": "2022-08-24T10:13:04.756911Z",
     "shell.execute_reply": "2022-08-24T10:13:04.755985Z",
     "shell.execute_reply.started": "2022-08-24T10:10:57.318320Z"
    },
    "tags": []
   },
   "outputs": [],
   "source": [
    "def launch(pays):\n",
    "    out = \"out/\" + pays + \".calc.ipynb\"\n",
    "    return [\"papermill\", \"Calcul Pays.ipynb\", out, \"-p\", \"pays\", pays]\n",
    "\n",
    "for listPays in LPays:\n",
    "\n",
    "    process = [subprocess.Popen(launch(p)) for p in listPays]\n",
    "\n",
    "    for p in process:\n",
    "        p.wait()"
   ]
  }
 ],
 "metadata": {
  "interpreter": {
   "hash": "d4d1e4263499bec80672ea0156c357c1ee493ec2b1c70f0acce89fc37c4a6abe"
  },
  "kernelspec": {
   "display_name": "Python 3 (ipykernel)",
   "language": "python",
   "name": "python3"
  },
  "language_info": {
   "codemirror_mode": {
    "name": "ipython",
    "version": 3
   },
   "file_extension": ".py",
   "mimetype": "text/x-python",
   "name": "python",
   "nbconvert_exporter": "python",
   "pygments_lexer": "ipython3",
   "version": "3.9.12"
  },
  "toc": {
   "base_numbering": 1,
   "nav_menu": {},
   "number_sections": true,
   "sideBar": true,
   "skip_h1_title": false,
   "title_cell": "Table of Contents",
   "title_sidebar": "Contents",
   "toc_cell": false,
   "toc_position": {},
   "toc_section_display": true,
   "toc_window_display": false
  }
 },
 "nbformat": 4,
 "nbformat_minor": 4
}
